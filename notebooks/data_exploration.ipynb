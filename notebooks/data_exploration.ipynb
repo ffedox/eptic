{
 "cells": [
  {
   "cell_type": "code",
   "execution_count": 7,
   "metadata": {},
   "outputs": [],
   "source": [
    "#import os\n",
    "#os.chdir('../')"
   ]
  },
  {
   "cell_type": "code",
   "execution_count": 1,
   "metadata": {},
   "outputs": [],
   "source": [
    "# Modify the sys.path\n",
    "import sys\n",
    "sys.path.append(r\"E:\\Code\\eptic\\src\")\n",
    "\n",
    "# Import the necessary functions\n",
    "from db_connect import get_database_config_from_json, connect_to_db\n",
    "\n",
    "import seaborn as sns\n",
    "import pandas as pd\n",
    "import matplotlib.pyplot as plt\n",
    "import os\n",
    "\n",
    "import hydra\n",
    "from omegaconf import DictConfig\n",
    "\n",
    "import mariadb\n",
    "import json"
   ]
  },
  {
   "cell_type": "markdown",
   "metadata": {},
   "source": [
    "Notebook to figure out what's wrong with the \"duration\" field of some languages"
   ]
  },
  {
   "cell_type": "code",
   "execution_count": 24,
   "metadata": {},
   "outputs": [],
   "source": [
    "hydra.core.global_hydra.GlobalHydra.instance().clear()"
   ]
  },
  {
   "cell_type": "code",
   "execution_count": 2,
   "metadata": {},
   "outputs": [
    {
     "name": "stdout",
     "output_type": "stream",
     "text": [
      "Connecting to database: eptic\n"
     ]
    },
    {
     "data": {
      "text/html": [
       "<div>\n",
       "<style scoped>\n",
       "    .dataframe tbody tr th:only-of-type {\n",
       "        vertical-align: middle;\n",
       "    }\n",
       "\n",
       "    .dataframe tbody tr th {\n",
       "        vertical-align: top;\n",
       "    }\n",
       "\n",
       "    .dataframe thead th {\n",
       "        text-align: right;\n",
       "    }\n",
       "</style>\n",
       "<table border=\"1\" class=\"dataframe\">\n",
       "  <thead>\n",
       "    <tr style=\"text-align: right;\">\n",
       "      <th></th>\n",
       "      <th>lang</th>\n",
       "    </tr>\n",
       "  </thead>\n",
       "  <tbody>\n",
       "    <tr>\n",
       "      <th>0</th>\n",
       "      <td>pl</td>\n",
       "    </tr>\n",
       "    <tr>\n",
       "      <th>1</th>\n",
       "      <td>pl</td>\n",
       "    </tr>\n",
       "    <tr>\n",
       "      <th>2</th>\n",
       "      <td>fr</td>\n",
       "    </tr>\n",
       "    <tr>\n",
       "      <th>3</th>\n",
       "      <td>fr</td>\n",
       "    </tr>\n",
       "    <tr>\n",
       "      <th>4</th>\n",
       "      <td>en</td>\n",
       "    </tr>\n",
       "    <tr>\n",
       "      <th>...</th>\n",
       "      <td>...</td>\n",
       "    </tr>\n",
       "    <tr>\n",
       "      <th>976</th>\n",
       "      <td>fi</td>\n",
       "    </tr>\n",
       "    <tr>\n",
       "      <th>977</th>\n",
       "      <td>fi</td>\n",
       "    </tr>\n",
       "    <tr>\n",
       "      <th>978</th>\n",
       "      <td>fi</td>\n",
       "    </tr>\n",
       "    <tr>\n",
       "      <th>979</th>\n",
       "      <td>fi</td>\n",
       "    </tr>\n",
       "    <tr>\n",
       "      <th>980</th>\n",
       "      <td>fi</td>\n",
       "    </tr>\n",
       "  </tbody>\n",
       "</table>\n",
       "<p>981 rows × 1 columns</p>\n",
       "</div>"
      ],
      "text/plain": [
       "    lang\n",
       "0     pl\n",
       "1     pl\n",
       "2     fr\n",
       "3     fr\n",
       "4     en\n",
       "..   ...\n",
       "976   fi\n",
       "977   fi\n",
       "978   fi\n",
       "979   fi\n",
       "980   fi\n",
       "\n",
       "[981 rows x 1 columns]"
      ]
     },
     "execution_count": 2,
     "metadata": {},
     "output_type": "execute_result"
    }
   ],
   "source": [
    "from hydra import initialize, compose\n",
    "\n",
    "# Use the 'initialize' and 'compose' functions for Hydra\n",
    "config_dir_path = r\"E:\\Code\\eptic\\config\"\n",
    "\n",
    "with initialize(version_base=None, config_path=\"../config\"):\n",
    "    cfg = compose(config_name='main.yaml')  # Adjust this if your filename differs\n",
    "\n",
    "config_data = get_database_config_from_json(cfg.db.credentials)\n",
    "print(f\"Connecting to database: {config_data['name']}\")\n",
    "conn = connect_to_db(config_data)\n",
    "\n",
    "# Function to get all table names in the database\n",
    "def get_table_names(connection):\n",
    "    return pd.read_sql_query(\"SHOW TABLES;\", connection)\n",
    "\n",
    "# Function to query a table and return a dataframe with prefixed column names\n",
    "def get_table_data(table_name, connection):\n",
    "    query = f\"SELECT * FROM `{table_name}`;\"\n",
    "    df = pd.read_sql_query(query, connection)\n",
    "    df.columns = [f\"{table_name}.{col}\" for col in df.columns]\n",
    "    return df\n",
    "\n",
    "# Get a list of all table names\n",
    "table_names_df = get_table_names(conn)\n",
    "table_names = table_names_df[table_names_df.columns[0]].tolist()  # Adjust the index if necessary\n",
    "\n",
    "# Iterate through table names, get their data, and optionally concatenate into a single DataFrame\n",
    "all_tables_data = pd.DataFrame()  # Initialize an empty DataFrame to hold all data\n",
    "for table_name in table_names:\n",
    "    table_data = get_table_data(table_name, conn)\n",
    "    # Here you can either export each table to a CSV or combine them\n",
    "    # To export to CSV:\n",
    "    table_data.to_csv(f\"{table_name}_data.csv\", index=False)\n",
    "    # Or to concatenate them into a single DataFrame (assuming they can be concatenated):\n",
    "    # all_tables_data = pd.concat([all_tables_data, table_data], axis=0)\n",
    "\n",
    "# If you have concatenated all tables and want to save the entire database to a single CSV:\n",
    "# all_tables_data.to_csv(\"all_tables_data.csv\", index=False)"
   ]
  },
  {
   "cell_type": "code",
   "execution_count": null,
   "metadata": {},
   "outputs": [],
   "source": []
  }
 ],
 "metadata": {
  "kernelspec": {
   "display_name": "Python 3",
   "language": "python",
   "name": "python3"
  },
  "language_info": {
   "codemirror_mode": {
    "name": "ipython",
    "version": 3
   },
   "file_extension": ".py",
   "mimetype": "text/x-python",
   "name": "python",
   "nbconvert_exporter": "python",
   "pygments_lexer": "ipython3",
   "version": "3.11.5"
  },
  "orig_nbformat": 4
 },
 "nbformat": 4,
 "nbformat_minor": 2
}
